{
 "cells": [
  {
   "cell_type": "markdown",
   "metadata": {},
   "source": [
    "# Gillespie Algorithm"
   ]
  },
  {
   "cell_type": "code",
   "execution_count": null,
   "metadata": {},
   "outputs": [],
   "source": [
    "import matplotlib.pyplot as plt\n",
    "import numpy as np"
   ]
  },
  {
   "cell_type": "markdown",
   "metadata": {},
   "source": [
    "---"
   ]
  },
  {
   "cell_type": "code",
   "execution_count": null,
   "metadata": {},
   "outputs": [],
   "source": [
    "# +---+         +---+\n",
    "# | 0 | <------ | 1 | ---+\n",
    "# +---+ ------> +---+    |\n",
    "#          ^             |\n",
    "#          +-----------+ |\n",
    "#                      | |\n",
    "#          +-----------|-+\n",
    "#          |           |\n",
    "# +---+    V    +---+  |\n",
    "# | 2 | <------ | 3 | -+\n",
    "# +---+ ------> +---+\n",
    "#\n",
    "# d/dt x0 = -k01 s(x3) x0 + k10 x1\n",
    "# d/dt x1 =  k01 s(x3) x0 - k10 x1\n",
    "# d/dt x2 = -k23 x2 + k32 s(x1) x3\n",
    "# d/dt x3 =  k23 x2 - k32 s(x1) x3\n",
    "#\n",
    "# The nonlinear function s modulates transition rate.\n",
    "#\n",
    "\n",
    "transitions = [\n",
    "    {\"source\": 0, \"destination\": 1, \"rate\": 0.7, \"input\": 3},\n",
    "    {\"source\": 1, \"destination\": 0, \"rate\": 0.5},\n",
    "    {\"source\": 2, \"destination\": 3, \"rate\": 0.5},\n",
    "    {\"source\": 3, \"destination\": 2, \"rate\": 0.7, \"input\": 1},\n",
    "]"
   ]
  },
  {
   "cell_type": "code",
   "execution_count": null,
   "metadata": {},
   "outputs": [],
   "source": [
    "random = np.random.RandomState(0)\n",
    "\n",
    "nodes = [\n",
    "    {\"count\": 8, \"transitions\": []},\n",
    "    {\"count\": 0, \"transitions\": []},\n",
    "    {\"count\": 8, \"transitions\": []},\n",
    "    {\"count\": 0, \"transitions\": []},\n",
    "]\n",
    "\n",
    "for tr in transitions:\n",
    "    source = nodes[tr[\"source\"]]\n",
    "    destination = nodes[tr[\"destination\"]]\n",
    "\n",
    "    tr_spec = {\n",
    "        \"source\": source,\n",
    "        \"destination\": destination,\n",
    "        \"rate\": tr[\"rate\"],\n",
    "    }\n",
    "    if \"input\" in tr:\n",
    "        tr_spec[\"input\"] = nodes[tr[\"input\"]]\n",
    "\n",
    "    source[\"transitions\"].append(tr_spec)"
   ]
  },
  {
   "cell_type": "code",
   "execution_count": null,
   "metadata": {},
   "outputs": [],
   "source": [
    "def sigma(x):\n",
    "    if x >= 1:\n",
    "        return 1\n",
    "    else:\n",
    "        return 0\n",
    "\n",
    "time = 0\n",
    "\n",
    "time_history = [time]\n",
    "count_history = [[node[\"count\"] for node in nodes]]\n",
    "\n",
    "for _ in range(300):\n",
    "\n",
    "    # Current total rate\n",
    "    sum_rate = 0\n",
    "\n",
    "    for node in nodes:\n",
    "        rate = 0\n",
    "        for tr in node[\"transitions\"]:\n",
    "            mod = 1\n",
    "            if \"input\" in tr:\n",
    "                mod = sigma(tr[\"input\"][\"count\"])\n",
    "            rate += mod * tr[\"rate\"] * node[\"count\"]\n",
    "\n",
    "        sum_rate += rate\n",
    "\n",
    "    # Choose actual transition\n",
    "    stop_rate = sum_rate * random.uniform()\n",
    "    par_rate = 0\n",
    "    chosen_transition = None\n",
    "\n",
    "    for node in nodes:\n",
    "        for tr in node[\"transitions\"]:\n",
    "            mod = 1\n",
    "            if \"input\" in tr:\n",
    "                mod = sigma(tr[\"input\"][\"count\"])\n",
    "            par_rate += mod * tr[\"rate\"] * node[\"count\"]\n",
    "\n",
    "            if stop_rate < par_rate:\n",
    "                chosen_transition = tr\n",
    "                break\n",
    "\n",
    "        if chosen_transition is not None:\n",
    "            break\n",
    "\n",
    "    # Apply\n",
    "    chosen_transition[\"source\"][\"count\"] -= 1\n",
    "    chosen_transition[\"destination\"][\"count\"] += 1\n",
    "\n",
    "    dt = -np.log(1 - random.uniform()) / sum_rate\n",
    "    time += dt\n",
    "\n",
    "    # Log\n",
    "    time_history.append(time)\n",
    "    count_history.append([node[\"count\"] for node in nodes])\n",
    "\n",
    "time_history = np.array(time_history)\n",
    "count_history = np.array(count_history)"
   ]
  },
  {
   "cell_type": "code",
   "execution_count": null,
   "metadata": {},
   "outputs": [],
   "source": [
    "fig, ax = plt.subplots(figsize=(10, 2))\n",
    "\n",
    "x = time_history\n",
    "y = count_history\n",
    "ax.step(x, y, lw=1)\n",
    "\n",
    "ax.spines[\"top\"].set_visible(False)\n",
    "ax.spines[\"right\"].set_visible(False)\n",
    "\n",
    "pass"
   ]
  },
  {
   "cell_type": "code",
   "execution_count": null,
   "metadata": {},
   "outputs": [],
   "source": []
  }
 ],
 "metadata": {
  "kernelspec": {
   "display_name": "Python 3",
   "language": "python",
   "name": "python3"
  },
  "language_info": {
   "codemirror_mode": {
    "name": "ipython",
    "version": 3
   },
   "file_extension": ".py",
   "mimetype": "text/x-python",
   "name": "python",
   "nbconvert_exporter": "python",
   "pygments_lexer": "ipython3",
   "version": "3.7.9"
  }
 },
 "nbformat": 4,
 "nbformat_minor": 4
}
