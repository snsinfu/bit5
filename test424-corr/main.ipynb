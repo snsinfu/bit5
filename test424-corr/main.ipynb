{
 "cells": [
  {
   "cell_type": "markdown",
   "metadata": {},
   "source": [
    "# OZ-like correlation decomposition\n",
    "\n",
    "Consider a correlation (or covariance) matrix $ H = ( h_{ij} ) $. We model the correlation coefficient $ h_{ij} $ as a sum of direct correlation $ c_{ij} $ and indirect correlations. Here, indirect correlation between $ i $ and $ j $ is the product of correlation coefficients along all possible walks from $ i $ to $ j $, each step being weighted by a hyperparameter $ \\rho $. So,\n",
    "$$\n",
    "    h_{ij}\n",
    "    =\n",
    "    c_{ij}\n",
    "    +\n",
    "    \\rho \\sum_{k} c_{ik} c_{ki}\n",
    "    +\n",
    "    \\rho^2 \\sum_{k,l} c_{ik} c_{kl} c_{lj}\n",
    "    +\n",
    "    \\cdots\n",
    "    .\n",
    "$$\n",
    "Or, in the matrix form,\n",
    "$$\n",
    "    H = \\sum_{n=0}^{\\infty} \\rho^n C^{n+1} .\n",
    "$$\n",
    "We allow cycles in indirect correlation trajectories but disallow self-loops; so, the diagonal elements of $ H $ and $ C $ are all set to zero. Now, observe\n",
    "$$\n",
    "\\begin{align}\n",
    "    H & = C + \\sum_{n=1}^{\\infty} \\rho^n C^{n+1}\n",
    "    \\\\\n",
    "      & = C + \\rho C \\sum_{n=0}^{\\infty} \\rho^n C^{n+1}\n",
    "    \\\\\n",
    "      & = C + \\rho C H .\n",
    "\\end{align}\n",
    "$$\n",
    "The zero-diagonal constraint makes it impossible to solve this linear equation for $ C $ algebraically. So, we use an iterative procedure using the equation as the update rule:\n",
    "$$\n",
    "    C \\leftarrow H - \\rho C H .\n",
    "$$"
   ]
  },
  {
   "cell_type": "code",
   "execution_count": 1,
   "metadata": {},
   "outputs": [],
   "source": [
    "import matplotlib.pyplot as plt\n",
    "import numpy as np"
   ]
  },
  {
   "cell_type": "code",
   "execution_count": 2,
   "metadata": {},
   "outputs": [],
   "source": [
    "# Load example correlation matrix\n",
    "correlation_matrix = np.loadtxt(\"H.dat\")"
   ]
  },
  {
   "cell_type": "code",
   "execution_count": 3,
   "metadata": {},
   "outputs": [],
   "source": [
    "rho = 1.2\n",
    "momentum = 0.9\n",
    "iterations = 10000\n",
    "\n",
    "def zero_diagonal(X):\n",
    "    return X - np.diag(np.diagonal(X))\n",
    "\n",
    "n, _ = correlation_matrix.shape\n",
    "H = zero_diagonal(correlation_matrix)\n",
    "C = H\n",
    "\n",
    "for _ in range(iterations):\n",
    "    new_C = H - rho * C @ H\n",
    "    new_C = zero_diagonal(new_C)\n",
    "\n",
    "    # Use momentum update for numerical stability\n",
    "    C = momentum * C + (1 - momentum) * new_C\n",
    "\n",
    "    # Correct assymmetry due to numerical error\n",
    "    C = (C + C.T) / 2"
   ]
  },
  {
   "cell_type": "code",
   "execution_count": 4,
   "metadata": {},
   "outputs": [
    {
     "data": {
      "image/png": "[encoded data removed]",
      "text/plain": [
       "<Figure size 720x264 with 3 Axes>"
      ]
     },
     "metadata": {
      "needs_background": "light"
     },
     "output_type": "display_data"
    }
   ],
   "source": [
    "R = H - C\n",
    "\n",
    "fig, axes = plt.subplots(1, 3, figsize=(6.0, 2.2), dpi=120)\n",
    "\n",
    "axes[0].matshow(H, vmin=-1, vmax=1, cmap=\"RdBu_r\")\n",
    "axes[1].matshow(C, vmin=-1, vmax=1, cmap=\"RdBu_r\")\n",
    "axes[2].matshow(R, vmin=-1, vmax=1, cmap=\"RdBu_r\")\n",
    "\n",
    "axes[0].set_title(\"Total $ H $\")\n",
    "axes[1].set_title(\"Direct $ C $\")\n",
    "axes[2].set_title(\"Indirect $ R $\")\n",
    "\n",
    "def style(ax):\n",
    "    ticks = np.arange(n)\n",
    "    ax.set_xticks(ticks)\n",
    "    ax.set_yticks(ticks)\n",
    "    ax.tick_params(bottom=False)\n",
    "\n",
    "style(axes[0])\n",
    "style(axes[1])\n",
    "style(axes[2])"
   ]
  }
 ],
 "metadata": {
  "kernelspec": {
   "display_name": "Python 3",
   "language": "python",
   "name": "python3"
  },
  "language_info": {
   "codemirror_mode": {
    "name": "ipython",
    "version": 3
   },
   "file_extension": ".py",
   "mimetype": "text/x-python",
   "name": "python",
   "nbconvert_exporter": "python",
   "pygments_lexer": "ipython3",
   "version": "3.7.9"
  }
 },
 "nbformat": 4,
 "nbformat_minor": 4
}
